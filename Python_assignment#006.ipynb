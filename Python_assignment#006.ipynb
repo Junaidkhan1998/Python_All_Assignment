{
 "cells": [
  {
   "cell_type": "code",
   "execution_count": null,
   "metadata": {},
   "outputs": [],
   "source": [
    "#Question 1\n",
    "#Object-Oriented Programming:\n",
    "    Object-Oriented Programming is a programming language in which programs are organized around data or object can be defined as \n",
    "    a data field that has attributes and behavior.OOPs is a paradigm in which real-world objects are viewed as separate entities having\n",
    "    thei own state which is modified only by built in procedures,called methods.\n"
   ]
  },
  {
   "cell_type": "code",
   "execution_count": null,
   "metadata": {},
   "outputs": [],
   "source": [
    "#Question 2\n",
    "#List The Benifits Of OOPs:\n",
    "    \n",
    "1)The OOPs programming gets easy and efficient.\n",
    "2)Data is safe and secure with data abstaraction.\n",
    "3)Modularity for easier troubleshooting.\n",
    "4)Reused of code through inheritence.\n",
    "5)Flexibility through Polymorphism.\n",
    "6)Effective problems solving."
   ]
  },
  {
   "cell_type": "code",
   "execution_count": null,
   "metadata": {},
   "outputs": [],
   "source": [
    "#Question 3\n",
    "#Difference Between Function And Method:\n",
    "    \n",
    "#Function:\n",
    "A functtion is a combination of instuctions that are combined to achieve some result.A function typically requires some inputs(called Arguments)\n",
    "and return some results.Consider the example of driving a car.To determine the mileage,you need to perform a calculation using the distance driven\n",
    "and the amount of fuel used.You could write a function to do this calculation. \n",
    "\n",
    "\n",
    "#Method:\n",
    "A method in OOPs is a procedure associated with a class.A method defines the behavior of the objects that are created from the class.\n",
    "Another way to say this is that a method is an action that an object is able to perform.The associated b/w method and class is called\n",
    "binding.\n",
    "    "
   ]
  },
  {
   "cell_type": "code",
   "execution_count": null,
   "metadata": {},
   "outputs": [],
   "source": [
    "#Question 4\n",
    "1)#Class:\n",
    "    A class is a blue-print for creating object(a particular data structure),providing initial values for state or attributes and\n",
    "    implementation of behavior or methods.The user-defined objects are creating using the class.\n",
    "    \n",
    "2)#Object:\n",
    "    An object is an instance of class.When a class is defined,no memory is allocated but when it is instantiation memory is allocated.\n",
    "    \n",
    "    \n",
    "3)#Attribute:\n",
    "    An attribute is a specification that defines a property of an object.It may also refer to set the specific value for a given instance.\n",
    "    An attribute of an object usually consist of a name,of an element,of a class name and extension.\n",
    "    \n",
    "    \n",
    "4)#Behavior:\n",
    "    The behavior of an object is defined by its methods,which are the functions and subroutines defined with the object class."
   ]
  },
  {
   "cell_type": "code",
   "execution_count": 26,
   "metadata": {},
   "outputs": [
    {
     "name": "stdout",
     "output_type": "stream",
     "text": [
      "Vigo \n",
      " 1997 \n",
      " Black \n",
      " manual as well as \n",
      " Auto\n",
      "\t\t================\n",
      "vigo135 gig \n",
      " 2000 \n",
      " Black \n",
      " manual as well as \n",
      " Auto\n",
      "\t\t================\n",
      "Vigo \n",
      " 1997 \n",
      " Black \n",
      " No auto facility \n",
      " But Manual\n",
      "\t\t================\n",
      "Vigo \n",
      " 1997 \n",
      " Red \n",
      " Auto \n",
      " manual as well as\n",
      "\t\t================\n",
      "Honda city \n",
      " 2015 \n",
      " Dark Blue \n",
      " Auto facilities \n",
      " As well as Manual\n"
     ]
    }
   ],
   "source": [
    "#Question 5\n",
    "class car():\n",
    "    \n",
    "    def __init__(self,model,color,name,auto,manual):\n",
    "        \n",
    "        self.model = model\n",
    "        self.color = color\n",
    "        self.name = name\n",
    "        self.auto = auto\n",
    "        self.manual = manual\n",
    "         \n",
    "        \n",
    "    def modelname(self,newmodel,newname):\n",
    "        self.model = newmodel\n",
    "        self.name = newname\n",
    "        \n",
    "    def automanual(self,newauto,newmanual):\n",
    "        self.auto = newauto\n",
    "        self.manual = newmanual\n",
    "        \n",
    "    def carcolor(self,newcolor):\n",
    "        self.color = newcolor\n",
    "        \n",
    "        \n",
    "car1 = car(1997,'Black','Vigo','Auto','manual as well as')\n",
    "print(car1.name,'\\n',car1.model,'\\n',car1.color,'\\n',car1.manual,'\\n',car1.auto)\n",
    "\n",
    "car2 = car(1997,'Black','Vigo','Auto','manual as well as')\n",
    "car2.modelname(2000,'vigo135 gig')\n",
    "print(\"\\t\\t================\")\n",
    "print(car2.name,'\\n',car2.model,'\\n',car2.color,'\\n',car2.manual,'\\n',car2.auto)\n",
    "\n",
    "\n",
    "car3 = car(1997,'Black','Vigo','Auto','manual as well as')\n",
    "car3.automanual('No auto facility','But Manual')\n",
    "print(\"\\t\\t================\")\n",
    "print(car3.name,'\\n',car3.model,'\\n',car3.color,'\\n',car3.auto,'\\n',car3.manual)\n",
    "\n",
    "car4 = car(1997,'Black','Vigo','Auto','manual as well as')\n",
    "car4.carcolor('Red')\n",
    "print(\"\\t\\t================\")\n",
    "print(car4.name,'\\n',car4.model,'\\n',car4.color,'\\n',car4.auto,'\\n',car4.manual)\n",
    "\n",
    "car5 = car(1997,'Black','Vigo','Auto','manual as well as')\n",
    "car5.modelname(2015,'Honda city')\n",
    "car5.automanual('Auto facilities','As well as Manual')\n",
    "car5.carcolor('Dark Blue')\n",
    "print(\"\\t\\t================\")\n",
    "print(car5.name,'\\n',car5.model,'\\n',car5.color,'\\n',car5.auto,'\\n',car5.manual)"
   ]
  },
  {
   "cell_type": "code",
   "execution_count": null,
   "metadata": {},
   "outputs": [],
   "source": []
  }
 ],
 "metadata": {
  "kernelspec": {
   "display_name": "Python 3",
   "language": "python",
   "name": "python3"
  },
  "language_info": {
   "codemirror_mode": {
    "name": "ipython",
    "version": 3
   },
   "file_extension": ".py",
   "mimetype": "text/x-python",
   "name": "python",
   "nbconvert_exporter": "python",
   "pygments_lexer": "ipython3",
   "version": "3.7.4"
  }
 },
 "nbformat": 4,
 "nbformat_minor": 2
}
